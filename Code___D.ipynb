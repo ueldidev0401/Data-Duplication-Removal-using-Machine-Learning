{
  "nbformat": 4,
  "nbformat_minor": 0,
  "metadata": {
    "colab": {
      "name": "Code _ D.ipynb",
      "provenance": []
    },
    "kernelspec": {
      "name": "python3",
      "display_name": "Python 3"
    },
    "language_info": {
      "name": "python"
    }
  },
  "cells": [
    {
      "cell_type": "markdown",
      "metadata": {
        "id": "NbyRWURkQzkj"
      },
      "source": [
        "Data Duplication Removal using Machine Learning Model"
      ]
    },
    {
      "cell_type": "code",
      "metadata": {
        "id": "jNzs5m56Qv1i"
      },
      "source": [
        "import pandas as pd\n",
        "import numpy as np\n",
        "import os\n",
        "import time\n",
        "\n",
        "from sklearn.metrics import f1_score, accuracy_score\n",
        "import matplotlib.pyplot as plt"
      ],
      "execution_count": 1,
      "outputs": []
    },
    {
      "cell_type": "code",
      "metadata": {
        "id": "ie8ZXiP2Qw5g"
      },
      "source": [
        ""
      ],
      "execution_count": null,
      "outputs": []
    },
    {
      "cell_type": "markdown",
      "metadata": {
        "id": "YGxHwq21Q1cZ"
      },
      "source": [
        "### WAIT WAIT .... \n",
        ".\n",
        "\n",
        "\n",
        ".\n",
        "\n",
        "\n",
        ".\n",
        "\n",
        "\n",
        "I have made Code of this Private, If you want this Project Code and Documents then Mail me.\n",
        "\n",
        "\n",
        "## Mail : vatshayan007@gmail.com"
      ]
    },
    {
      "cell_type": "code",
      "metadata": {
        "id": "32zVq8DGQ1RO"
      },
      "source": [
        ""
      ],
      "execution_count": 1,
      "outputs": []
    }
  ]
}